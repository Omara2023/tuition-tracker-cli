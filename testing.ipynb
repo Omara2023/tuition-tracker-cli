{
 "cells": [
  {
   "cell_type": "code",
   "execution_count": 12,
   "id": "b8ee2e9b",
   "metadata": {},
   "outputs": [
    {
     "name": "stdout",
     "output_type": "stream",
     "text": [
      "1 - Timothy Benson - (Active)\n",
      "    ID 1 - Seth Strong - (Active) - ParentID 1\n",
      "2 - Matthew Kane - (Active)\n",
      "    ID 2 - Johnny Logan - (Active) - ParentID 2\n",
      "    ID 3 - Allen Braun - (Inactive) - ParentID 2\n",
      "3 - Jennifer Blake - (Active)\n",
      "    ID 4 - Jon Shepherd - (Active) - ParentID 3\n",
      "4 - Lauren King - (Active)\n",
      "    ID 5 - Anthony Elliott - (Active) - ParentID 4\n",
      "5 - Albert Murphy - (Inactive)\n",
      "    ID 6 - Billy King - (Active) - ParentID 5\n",
      "    ID 7 - Jacqueline Miller - (Inactive) - ParentID 5\n"
     ]
    }
   ],
   "source": [
    "from app.db.cm import get_session\n",
    "from sqlalchemy import select\n",
    "import app.db.models_registry \n",
    "from sqlalchemy.orm import Session, configure_mappers\n",
    "from collections import defaultdict\n",
    "from app.models.student import Student\n",
    "from app.models.parent import Parent\n",
    "from app.models.rate import Rate\n",
    "from app.models.lesson import Lesson \n",
    "from app.cli.cli_helpers import print_table\n",
    "\n",
    "\n",
    "def print_parents_with_students(rows: list) -> None:\n",
    "    return\n",
    "\n",
    "\n",
    "with get_session() as session:\n",
    "    items = session.execute(select(Parent, Student).join(Parent.students)).all()\n",
    "\n",
    "    parent_map = defaultdict(list)\n",
    "\n",
    "    for parent, student in items:\n",
    "        parent_map[parent].append(student)\n",
    "\n",
    "    for parent, students in parent_map.items():\n",
    "        print(parent)\n",
    "        for student in students:\n",
    "            print(f\"    {student}\")\n",
    "            "
   ]
  }
 ],
 "metadata": {
  "kernelspec": {
   "display_name": ".venv",
   "language": "python",
   "name": "python3"
  },
  "language_info": {
   "codemirror_mode": {
    "name": "ipython",
    "version": 3
   },
   "file_extension": ".py",
   "mimetype": "text/x-python",
   "name": "python",
   "nbconvert_exporter": "python",
   "pygments_lexer": "ipython3",
   "version": "3.11.4"
  }
 },
 "nbformat": 4,
 "nbformat_minor": 5
}
