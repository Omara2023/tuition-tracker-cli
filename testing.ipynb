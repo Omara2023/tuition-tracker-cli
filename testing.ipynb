{
 "cells": [
  {
   "cell_type": "code",
   "execution_count": 9,
   "id": "b8ee2e9b",
   "metadata": {},
   "outputs": [
    {
     "name": "stdout",
     "output_type": "stream",
     "text": [
      "Parent         | Student           | Level   | Rate (£/Hour)\n",
      "---------------+-------------------+---------+--------------\n",
      "Timothy Benson | Seth Strong       | GCSE    | 50.00        \n",
      "Matthew Kane   | Johnny Logan      | A-Level | 15.00        \n",
      "Matthew Kane   | Johnny Logan      | GCSE    | 40.00        \n",
      "Matthew Kane   | Allen Braun       | GCSE    | 15.00        \n",
      "Jennifer Blake | Jon Shepherd      | A-Level | 20.00        \n",
      "Lauren King    | Anthony Elliott   | A-Level | 40.00        \n",
      "Albert Murphy  | Billy King        | A-Level | 30.00        \n",
      "Albert Murphy  | Jacqueline Miller | A-Level | 40.00        \n",
      "\n"
     ]
    }
   ],
   "source": [
    "from app.db.cm import get_session\n",
    "from sqlalchemy import select\n",
    "import app.db.models_registry \n",
    "from sqlalchemy.orm import Session\n",
    "from sqlalchemy.engine import Row\n",
    "from collections.abc import Sequence\n",
    "from app.models.student import Student\n",
    "from app.models.parent import Parent\n",
    "from app.models.rate import Rate\n",
    "from app.models.lesson import Lesson \n",
    "from app.cli.cli_helpers import print_join_table\n",
    "\n",
    "\n",
    "def print_parents_with_students(rows: Sequence[Row]) -> None:\n",
    "    print_join_table(\n",
    "        rows=rows,\n",
    "        columns=[\n",
    "            lambda t: f\"{t[0].forename} {t[0].surname}\",\n",
    "            lambda t: f\"{t[1].forename} {t[1].surname}\",\n",
    "            lambda t: t[2].level,\n",
    "            lambda t: t[2].hourly_rate\n",
    "        ],\n",
    "        headers=[\"Parent\", \"Student\", \"Level\", \"Rate (£/Hour)\"]\n",
    "    )\n",
    "\n",
    "with get_session() as session:\n",
    "    items = session.execute(select(Parent, Student, Rate).join(Parent.students).join(Student.rates)).all()\n",
    "\n",
    "    print_parents_with_students(items)\n",
    "            "
   ]
  }
 ],
 "metadata": {
  "kernelspec": {
   "display_name": ".venv",
   "language": "python",
   "name": "python3"
  },
  "language_info": {
   "codemirror_mode": {
    "name": "ipython",
    "version": 3
   },
   "file_extension": ".py",
   "mimetype": "text/x-python",
   "name": "python",
   "nbconvert_exporter": "python",
   "pygments_lexer": "ipython3",
   "version": "3.11.4"
  }
 },
 "nbformat": 4,
 "nbformat_minor": 5
}
